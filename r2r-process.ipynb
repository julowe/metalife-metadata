{
 "cells": [
  {
   "cell_type": "markdown",
   "id": "a4df34e1",
   "metadata": {},
   "source": [
    "# Tell me about my seatime (Using information from R2R)\n",
    "\n",
    "The Rolling Deck to Repository (R2R) Program publishes a [beautiful API here](https://www.rvdata.us/about/technical-details/services/api).\n",
    "\n",
    "Intention is to use a person's name to get all cruises they were on, then days on the ship, then miles sailed on each cruise. \n",
    "\n",
    "## To Dos and Options\n",
    "\n",
    "To get the cruises a person was on:\n",
    "\n",
    "1. run a `/person/person_id/{person_id}` query and hope the name was spelled the same each time. Have not tested with actual query, but the 'Try it out' feature of API documentation doesn't not seem to allow partial IDs (i.e. just a last name) or wildcards...\n",
    "2. Give option to search for different names and display output?? Or just tell them to go to [R2R's website](https://www.rvdata.us) and investigate, then come back to this script with a few names to search for? Meh if we are displaying returned cruises anyway, easy enough to let them reject/not-yet-explicitly-add the search results that they don't want... meh\n",
    "3. Just loop through all cruise IDs with `/person/cruise_id/{cruise_id}` queries and... join unique names and show all names? show all matching last names?\n",
    "\n",
    "\n",
    "To get miles sailed, loop through all applicable cruises and (in order of preference):\n",
    "\n",
    "1. Get R2R format processed nav from a `/product/cruise_id/{cruise_id}` query (not all cruises have this data ready to download)\n",
    "2. get INS data from `/fileset/cruise_id/{cruise_id}` query\n",
    "\n",
    "aaaand then process that data. Using... ? \n",
    "\n",
    "\n",
    "TODO:\n",
    "- [ ] lookup geo and/or nav libraries and see if easy option to parse nav files\n",
    "- [ ] how best to look for errors or variations in spelling of someone's name?\n",
    "  - [ ] get all expeditions of a ship (within a timeframe?) and join the names?\n",
    "  - [ ] Just display all cruises returned for that person with the cruise's dates and leave it up to them to double-check?\n",
    "  - [ ] implement the combination of results from multiple searches with name variations\n",
    "- [ ] parse [R2R formatted processed nav data](https://service.rvdata.us/info/format/100157)\n",
    "- [ ] ?parse INS data? or just say 'sorry, wait for the data to be available'?\n",
    "  \n",
    "\n"
   ]
  },
  {
   "cell_type": "code",
   "execution_count": null,
   "id": "fb4e9dff",
   "metadata": {},
   "outputs": [],
   "source": [
    "import requests"
   ]
  },
  {
   "cell_type": "code",
   "execution_count": null,
   "id": "fe571463",
   "metadata": {},
   "outputs": [],
   "source": [
    "# lazy way to test that the requests library is loaded into binder\n",
    "print(\"The `requests` module is loaded and is version: {0}.\".format(requests.__version__))"
   ]
  }
 ],
 "metadata": {
  "kernelspec": {
   "display_name": "Python 3",
   "language": "python",
   "name": "python3"
  },
  "language_info": {
   "name": "python",
   "version": "3.12.3"
  }
 },
 "nbformat": 4,
 "nbformat_minor": 5
}
